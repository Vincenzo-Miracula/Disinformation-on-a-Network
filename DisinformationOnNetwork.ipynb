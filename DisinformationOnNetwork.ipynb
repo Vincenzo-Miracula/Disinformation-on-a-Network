{
  "cells": [
    {
      "cell_type": "markdown",
      "metadata": {
        "id": "view-in-github",
        "colab_type": "text"
      },
      "source": [
        "<a href=\"https://colab.research.google.com/github/Vincenzo-Miracula/Disinformation-on-a-Network/blob/main/DisinformationOnNetwork.ipynb\" target=\"_parent\"><img src=\"https://colab.research.google.com/assets/colab-badge.svg\" alt=\"Open In Colab\"/></a>"
      ]
    },
    {
      "cell_type": "code",
      "execution_count": null,
      "metadata": {
        "id": "LCWB-J-rCfzA"
      },
      "outputs": [],
      "source": [
        "import pandas as pd\n",
        "import re\n",
        "import requests\n",
        "from urllib.parse import urlparse\n",
        "from tqdm import tqdm\n",
        "import matplotlib.pyplot as plt\n",
        "import networkx as nx\n",
        "tqdm.pandas()"
      ]
    },
    {
      "cell_type": "code",
      "execution_count": null,
      "metadata": {
        "id": "cJx44SkJinDm",
        "outputId": "2d7279a7-1368-4d02-eeb4-078c29d906a4"
      },
      "outputs": [
        {
          "data": {
            "text/plain": [
              "Index(['Unnamed: 0', 'type', 'authorName', 'text', 'likeCount', 'createdAt',\n",
              "       'inReplyToUsername', 'textClean', 'Sentiment', 'Emotion'],\n",
              "      dtype='object')"
            ]
          },
          "execution_count": 2,
          "metadata": {},
          "output_type": "execute_result"
        }
      ],
      "source": [
        "df = pd.read_excel('C:/Users/vince/OneDrive/Desktop/Vincenzo/1.Dottorato/Tesi/Covid/Network-COVIDITA/Covid_tweet_SentimentEmotion_ita.xlsx')#, lines=True)\n",
        "df.columns"
      ]
    },
    {
      "cell_type": "code",
      "execution_count": null,
      "metadata": {
        "id": "Vd7YSc8pobnS"
      },
      "outputs": [],
      "source": [
        "lista_dis = pd.read_excel('C:/Users/vince/OneDrive/Desktop/Vincenzo/2.py/Disinformation_on_Network/domain_list_clean.xlsx')\n",
        "lista_disinformazione = lista_dis['url'].to_list()"
      ]
    },
    {
      "cell_type": "markdown",
      "source": [
        "# parte sui link"
      ],
      "metadata": {
        "id": "hBCtYP6YPXJx"
      }
    },
    {
      "cell_type": "code",
      "execution_count": null,
      "metadata": {
        "id": "du8EbzGNCiOA",
        "outputId": "df306ce8-7797-4fbe-9d6d-0d97be4ee305"
      },
      "outputs": [
        {
          "name": "stderr",
          "output_type": "stream",
          "text": [
            "  0%|          | 0/151127 [00:00<?, ?it/s]"
          ]
        },
        {
          "name": "stderr",
          "output_type": "stream",
          "text": [
            "100%|██████████| 151127/151127 [00:00<00:00, 835679.04it/s]\n"
          ]
        }
      ],
      "source": [
        "# step1\n",
        "def estrai_link(testo):\n",
        "    match = re.search(r'(https?://[^/s]+)', testo)\n",
        "    return match.group(0) if match else 'None'\n",
        "\n",
        "df['link'] = df['text'].progress_apply(estrai_link)"
      ]
    },
    {
      "cell_type": "code",
      "execution_count": null,
      "metadata": {
        "id": "fNIt_WTkC-cG"
      },
      "outputs": [],
      "source": [
        "filterDF = df.query(\"link != 'None'\")"
      ]
    },
    {
      "cell_type": "code",
      "execution_count": null,
      "metadata": {
        "id": "uo_yGL7tobnS"
      },
      "outputs": [],
      "source": [
        "len(df), len(filterDF)"
      ]
    },
    {
      "cell_type": "code",
      "execution_count": null,
      "metadata": {
        "id": "5qkBYaVnEX7z"
      },
      "outputs": [],
      "source": [
        "# step2\n",
        "def url_completo(link):\n",
        "  try:\n",
        "      x = requests.get(link, allow_redirects=True, timeout=10)\n",
        "      return x.url\n",
        "  except requests.exceptions.RequestException:\n",
        "    return \"Dominio non attivo\"\n",
        "\n",
        "filterDF['url_completo'] = filterDF['link'].progress_apply(url_completo)"
      ]
    },
    {
      "cell_type": "code",
      "execution_count": null,
      "metadata": {
        "id": "PSlI0iEqeZbe"
      },
      "outputs": [],
      "source": [
        "# step3\n",
        "def estrai_url_base(url):\n",
        "    if url == \"Dominio non attivo\":\n",
        "        return \"Dominio non attivo\"\n",
        "    elif url.startswith(\"https://t.me/\"):\n",
        "        return url  #url forma originale di telegram\n",
        "    elif \"x.com/\" in url:\n",
        "        base_url = url.split('/')\n",
        "        return f\"https://x.com/{base_url[3]}/\"\n",
        "    elif url.startswith(\"https://www.facebook.com/\"):\n",
        "        # solo facebook.com/username\n",
        "        parsed_url = urlparse(url)\n",
        "        return f\"{parsed_url.scheme}://{parsed_url.netloc}/{parsed_url.path.split('/')[1]}\"\n",
        "    else:\n",
        "        return urlparse(url).hostname\n",
        "\n",
        "filterDF['url_base'] = filterDF['url_completo'].progress_apply(estrai_url_base)"
      ]
    },
    {
      "cell_type": "code",
      "execution_count": null,
      "metadata": {
        "id": "_3Vt8y-BobnT"
      },
      "outputs": [],
      "source": [
        "# step4\n",
        "def espandi_per_mention(df):\n",
        "    righe_espanse = []\n",
        "\n",
        "    # Barra di progresso per iterare sul DataFrame\n",
        "    for index, row in tqdm(df.iterrows(), total=len(df), desc=\"Espansione righe\"):\n",
        "        # Estrai solo menzioni valide (@ seguite da un nome utente valido, non URL come @https)\n",
        "        menzioni = [m for m in re.findall(r'@(\\w+)', row['text']) if not m.startswith('https')]\n",
        "\n",
        "        # Crea una nuova riga per ogni menzione\n",
        "        for menzione in menzioni:\n",
        "            nuova_riga = row.copy()  # Copia la riga originale\n",
        "            nuova_riga['rt'] = menzione  # Aggiungi la menzione nella colonna 'rt'\n",
        "            righe_espanse.append(nuova_riga)\n",
        "\n",
        "    # Restituisce un DataFrame espanso\n",
        "    return pd.DataFrame(righe_espanse)\n",
        "\n",
        "# Applica la funzione sul DataFrame originale\n",
        "df_expanded = espandi_per_mention(filterDF)"
      ]
    },
    {
      "cell_type": "code",
      "source": [],
      "metadata": {
        "id": "GMvsOkwlpoSO"
      },
      "execution_count": null,
      "outputs": []
    },
    {
      "cell_type": "markdown",
      "source": [
        "# parte network"
      ],
      "metadata": {
        "id": "q3HGEsYYPfCZ"
      }
    },
    {
      "cell_type": "code",
      "source": [
        "# step5\n",
        "def crea_grafo_relazioni(df, colonna_utenti, colonna_link_base, lista_disinformazione=[]):\n",
        "    # Creiamo un grafo vuoto\n",
        "    G = nx.Graph()\n",
        "\n",
        "    # Mappa per ogni URL base e gli utenti che lo hanno condiviso\n",
        "    link_base_to_users = {}\n",
        "\n",
        "    # Iteriamo ogni riga per costruire la mappa degli URL e degli utenti\n",
        "    for idx, row in df.iterrows():\n",
        "        utente = row[colonna_utenti]\n",
        "        link_base = row[colonna_link_base]\n",
        "\n",
        "        # Verifica che l'URL non sia NaN\n",
        "        if pd.notna(link_base):\n",
        "            # Aggiungi l'utente alla lista di chi ha condiviso questo link\n",
        "            if link_base not in link_base_to_users:\n",
        "                link_base_to_users[link_base] = []\n",
        "            link_base_to_users[link_base].append(utente)\n",
        "\n",
        "    # Creiamo le relazioni tra gli utenti e assegniamo colori e status ai nodi\n",
        "    for link_base, users in link_base_to_users.items():\n",
        "        is_disi = link_base in lista_disinformazione  # Verifica se l'URL è sospetto\n",
        "        node_color = 'red' if is_disi else 'blue'  # Colore del nodo\n",
        "        node_status = 'sospetto' if is_disi else 'non sospetto'  # Stato del nodo\n",
        "\n",
        "        # Aggiungiamo nodi per gli utenti con il colore e lo stato corretti\n",
        "        for utente in users:\n",
        "            if not G.has_node(utente):\n",
        "                G.add_node(utente, color=node_color, status=node_status)\n",
        "\n",
        "        # Creiamo gli archi tra gli utenti che hanno condiviso lo stesso link\n",
        "        for i in range(len(users)):\n",
        "            for j in range(i + 1, len(users)):\n",
        "                u1, u2 = users[i], users[j]\n",
        "                if not G.has_edge(u1, u2):  # Evita duplicati\n",
        "                    G.add_edge(u1, u2)\n",
        "\n",
        "    self_loops = list(nx.selfloop_edges(G))\n",
        "    if self_loops:\n",
        "        G.remove_edges_from(self_loops)\n",
        "    # Visualizza il numero di nodi e archi nel grafo\n",
        "    print(f'Numero di nodi: {G.number_of_nodes()}')\n",
        "    print(f'Numero di archi: {G.number_of_edges()}')\n",
        "\n",
        "    print(\"Network pronto. Ricordati di calcolare le misure ed esportarlo in Gephi\")\n",
        "    return G"
      ],
      "metadata": {
        "id": "y_VlAonDpd3e"
      },
      "execution_count": null,
      "outputs": []
    },
    {
      "cell_type": "code",
      "source": [
        "df_expanded = pd.read_excel('/content/dffitrato_CovidTweetIta.xlsx')\n",
        "df_expanded.columns"
      ],
      "metadata": {
        "colab": {
          "base_uri": "https://localhost:8080/"
        },
        "id": "S_WIfb6zpwam",
        "outputId": "3e7337a1-2591-4b1f-a5b2-d2b65d8feb25"
      },
      "execution_count": null,
      "outputs": [
        {
          "output_type": "execute_result",
          "data": {
            "text/plain": [
              "Index(['Unnamed: 0.1', 'Unnamed: 0', 'type', 'authorName', 'text', 'likeCount',\n",
              "       'createdAt', 'inReplyToUsername', 'textClean', 'Sentiment', 'Emotion',\n",
              "       'link', 'url_completo', 'url_base'],\n",
              "      dtype='object')"
            ]
          },
          "metadata": {},
          "execution_count": 3
        }
      ]
    },
    {
      "cell_type": "code",
      "source": [
        "G = crea_grafo_relazioni(df_expanded, 'authorName', 'url_base', lista_disinformazione)"
      ],
      "metadata": {
        "colab": {
          "base_uri": "https://localhost:8080/"
        },
        "id": "ytbmD8kMpdwj",
        "outputId": "6f185959-70a0-4078-d1bf-73b5a5df3a5c"
      },
      "execution_count": null,
      "outputs": [
        {
          "output_type": "stream",
          "name": "stdout",
          "text": [
            "Numero di nodi: 373\n",
            "Numero di archi: 565\n",
            "Network pronto. Ricordati di calcolare le misure ed esportarlo in Gephi\n"
          ]
        }
      ]
    },
    {
      "cell_type": "code",
      "execution_count": null,
      "metadata": {
        "id": "fB2xFTzNyoLn",
        "colab": {
          "base_uri": "https://localhost:8080/"
        },
        "outputId": "36b544b1-4cef-4c58-b1f5-62f585b4d7db"
      },
      "outputs": [
        {
          "output_type": "stream",
          "name": "stdout",
          "text": [
            "Densità del grafo: 0.008143791980166624\n"
          ]
        }
      ],
      "source": [
        "# step6\n",
        "degree_centrality = nx.degree_centrality(G)\n",
        "nx.set_node_attributes(G, degree_centrality, 'degree_centrality')\n",
        "# 2. Betweenness Centrality\n",
        "betweenness_centrality = nx.betweenness_centrality(G)\n",
        "nx.set_node_attributes(G, betweenness_centrality, 'betweenness_centrality')\n",
        "# 3. Closeness Centrality\n",
        "closeness_centrality = nx.closeness_centrality(G)\n",
        "nx.set_node_attributes(G, closeness_centrality, 'closeness_centrality')\n",
        "# 4. PageRank\n",
        "pagerank = nx.pagerank(G)\n",
        "nx.set_node_attributes(G, pagerank, 'pagerank')\n",
        "# 5. Density network\n",
        "density = nx.density(G)\n",
        "print(f\"Densità del grafo: {density}\")\n",
        "\n",
        "# Salviamo il grafo in formato GEXF con attributi\n",
        "nx.write_gexf(G, 'test222.gexf')"
      ]
    }
  ],
  "metadata": {
    "colab": {
      "provenance": [],
      "include_colab_link": true
    },
    "kernelspec": {
      "display_name": "Python 3",
      "name": "python3"
    },
    "language_info": {
      "codemirror_mode": {
        "name": "ipython",
        "version": 3
      },
      "file_extension": ".py",
      "mimetype": "text/x-python",
      "name": "python",
      "nbconvert_exporter": "python",
      "pygments_lexer": "ipython3",
      "version": "3.9.12"
    }
  },
  "nbformat": 4,
  "nbformat_minor": 0
}